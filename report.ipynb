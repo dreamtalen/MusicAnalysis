{
 "cells": [
  {
   "cell_type": "markdown",
   "metadata": {},
   "source": [
    "# Music Analysis"
   ]
  },
  {
   "cell_type": "code",
   "execution_count": 17,
   "metadata": {},
   "outputs": [
    {
     "name": "stdout",
     "output_type": "stream",
     "text": [
      "\n",
      "\n",
      "            User authentication requires interaction with your\n",
      "            web browser. Once you enter your credentials and\n",
      "            give authorization, you will be redirected to\n",
      "            a url.  Paste that url you were directed to to\n",
      "            complete the authorization.\n",
      "\n",
      "        \n",
      "Opened https://accounts.spotify.com/authorize?client_id=3e3e60ffa5094b58ab08d7b9093d0499&response_type=code&redirect_uri=http%3A%2F%2Flocalhost%2F&scope=user-library-read in your browser\n",
      "\n",
      "\n",
      "Enter the URL you were redirected to: http://localhost/?code=AQC881V7qlU57XtKLo6_Ghb_WuVsJpJ0pdyC8S6PTcpR2ZKRro-SADdpz-TeKUKUoWaNdJIGqoJSdpjloo8isANo0dT5MRl1xumgxBkolKUkRZFYwwXFBu1-P8xMB2V_XVy6yscXojn0xfMrzxoEg24O3Qj5umnG3Xg6cIyNopRABNZrwt73Mv2NFMk35SIQeK3gLUuHMNhS0w\n",
      "\n",
      "\n",
      "BQDcjxhuet--wCeO8a2_nyywFB0Q5hezagpv3dxrkTExJhDUrUFhVko5u_ajPxhs960gp0c0xuM4IqnNOuWKOlSk7iox-W3P5d5RsJMDdsQ1Yp-Pd33Fbf8V2reY4WAOrVe7llKPWW8O7ST5LYA6dLf8oE9YA1n1Lyz9-v-ymrr9\n",
      "{'artists': {'href': 'https://api.spotify.com/v1/search?query=artist%3AJay+zhou&type=artist&offset=0&limit=10', 'items': [{'external_urls': {'spotify': 'https://open.spotify.com/artist/2elBjNSdBE2Y3f0j1mjrql'}, 'followers': {'href': None, 'total': 1307495}, 'genres': ['c-pop', 'mandopop', 'taiwan pop'], 'href': 'https://api.spotify.com/v1/artists/2elBjNSdBE2Y3f0j1mjrql', 'id': '2elBjNSdBE2Y3f0j1mjrql', 'images': [{'height': 640, 'url': 'https://i.scdn.co/image/b35b8bd42e75bfa0d15b1ec5243a42ed54fb2daa', 'width': 640}, {'height': 320, 'url': 'https://i.scdn.co/image/faf9d7464202a9d9860c9db3fce66755ec19f74c', 'width': 320}, {'height': 160, 'url': 'https://i.scdn.co/image/ef2f7965ac4a245914b09b6282937aaf538a40fb', 'width': 160}], 'name': 'Jay Chou', 'popularity': 77, 'type': 'artist', 'uri': 'spotify:artist:2elBjNSdBE2Y3f0j1mjrql'}], 'limit': 10, 'next': None, 'offset': 0, 'previous': None, 'total': 1}}\n"
     ]
    }
   ],
   "source": [
    "import spotipy\n",
    "import sys\n",
    "import spotipy.util as util\n",
    "\n",
    "scope = 'user-library-read'\n",
    "\n",
    "username = \"z66melpr22qj2wzit4jlajf6q\"\n",
    "token = util.prompt_for_user_token(username, scope, \\\n",
    "                                   client_id='3e3e60ffa5094b58ab08d7b9093d0499', \\\n",
    "                                   client_secret='60f04e3434d94cc2b1f4a32524892eca', \\\n",
    "                                   redirect_uri='http://localhost/')\n",
    "print(token)\n",
    "\n",
    "spotify = spotipy.Spotify(auth=token)\n",
    "\n",
    "name = \"Jay zhou\"\n",
    "results = spotify.search(q='artist:' + name, type='artist')\n",
    "print(results)"
   ]
  }
 ],
 "metadata": {
  "kernelspec": {
   "display_name": "Python 3",
   "language": "python",
   "name": "python3"
  },
  "language_info": {
   "codemirror_mode": {
    "name": "ipython",
    "version": 3
   },
   "file_extension": ".py",
   "mimetype": "text/x-python",
   "name": "python",
   "nbconvert_exporter": "python",
   "pygments_lexer": "ipython3",
   "version": "3.7.4"
  }
 },
 "nbformat": 4,
 "nbformat_minor": 2
}
